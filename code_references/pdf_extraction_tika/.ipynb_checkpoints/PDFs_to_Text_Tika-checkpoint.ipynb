{
 "cells": [
  {
   "cell_type": "markdown",
   "metadata": {},
   "source": [
    "# PDFs to Text via Tika"
   ]
  },
  {
   "cell_type": "markdown",
   "metadata": {},
   "source": [
    "This file is to convert pdf files into text files by using Tika. It has been designed to search the specified folder, and return a folder containing the converted text files.\n",
    "\n",
    "This code was initially written for the UofT3666 - Applied Natural Language Processing final project. That being said, there are some lines of code in here specifically to help clean up the output of the files that we were converting. This code was build upon the following gist: https://gist.github.com/nadya-p/373e1dc335293e490d89d00c895ea7b3."
   ]
  },
  {
   "cell_type": "code",
   "execution_count": 1,
   "metadata": {},
   "outputs": [],
   "source": [
    "# imports\n",
    "from tika import parser\n",
    "import os\n",
    "import datetime"
   ]
  },
  {
   "cell_type": "code",
   "execution_count": 2,
   "metadata": {},
   "outputs": [],
   "source": [
    "# class for extracting tika files\n",
    "class TikaExtract(object):\n",
    "    # initialize the object\n",
    "    def __init__(self, source_directory, target_directory_name):\n",
    "        # assigned variables for source_directory and target_directory_name\n",
    "        self.dir = source_directory\n",
    "        self.target = str(target_directory_name)\n",
    "    \n",
    "    # define recursive function to walk through directory and convert pdfs    \n",
    "    def extract_text_from_pdfs_recursively(self):\n",
    "        for root, dirs, files in os.walk(self.dir):\n",
    "            for file in files:\n",
    "                path_to_pdf = os.path.join(root, file)\n",
    "                [stem, ext] = os.path.splitext(path_to_pdf)\n",
    "                if ext == '.pdf':\n",
    "                    print(\"Processing \" + path_to_pdf)\n",
    "                    # use tika to parse contents from file\n",
    "                    pdf_contents = parser.from_file(path_to_pdf)\n",
    "                    # project specific - convert to raw\n",
    "                    raw_text = r'{}'.format(pdf_contents['content'])\n",
    "                    # project specific - replace new lines with spaces\n",
    "                    raw_text = raw_text.replace(\"\\n\",\" \")\n",
    "                    # project specific - replace double new lines with spaces\n",
    "                    raw_text = raw_text.replace(\"\\n\\n\" , \" \")\n",
    "                    # project specific - replace tabs with spaces\n",
    "                    raw_text = raw_text.replace(\"\\t\",\" \")\n",
    "                    path_to_txt = stem + '.txt'\n",
    "                    # check if target directory exists\n",
    "                    if not os.path.exists(str(os.getcwd()) + self.target):\n",
    "                        os.makedirs(str(os.getcwd()) + self.target)\n",
    "                    # write the text file to the target directory\n",
    "                    # names of the files will be the same, except have the .txt extension\n",
    "                    with open(str(os.getcwd()) + self.target + str(file[:-4]) + \".txt\", 'w') as txt_file:\n",
    "                        print(\"Writing contents to \" + str(os.getcwd()) + self.target + str(file[:-4]) + \".txt\")\n",
    "                        txt_file.write(raw_text)"
   ]
  },
  {
   "cell_type": "code",
   "execution_count": 3,
   "metadata": {},
   "outputs": [
    {
     "data": {
      "text/plain": [
       "'/Users/rahimjiwa/Documents/DataScience/sandbox/pdf_extraction_tika'"
      ]
     },
     "execution_count": 3,
     "metadata": {},
     "output_type": "execute_result"
    }
   ],
   "source": [
    "%pwd"
   ]
  },
  {
   "cell_type": "code",
   "execution_count": 4,
   "metadata": {},
   "outputs": [],
   "source": [
    "# this is an example, performing the operation on a local machine\n",
    "tikaextract = TikaExtract(source_directory=str(os.getcwd())+'/source_directory/',\n",
    "                         target_directory_name='/target_directory/')"
   ]
  },
  {
   "cell_type": "code",
   "execution_count": 5,
   "metadata": {},
   "outputs": [
    {
     "name": "stdout",
     "output_type": "stream",
     "text": [
      "Processing /Users/rahimjiwa/Documents/DataScience/sandbox/pdf_extraction_tika/source_directory/Guidebook-2016.pdf\n",
      "Writing contents to /Users/rahimjiwa/Documents/DataScience/sandbox/pdf_extraction_tika/target_directory/Guidebook-2016.txt\n"
     ]
    }
   ],
   "source": [
    "# run the function\n",
    "tikaextract.extract_text_from_pdfs_recursively()"
   ]
  },
  {
   "cell_type": "code",
   "execution_count": 6,
   "metadata": {},
   "outputs": [
    {
     "name": "stdout",
     "output_type": "stream",
     "text": [
      "Processing /Users/rahimjiwa/Documents/DataScience/sandbox/pdf_extraction_tika/source_directory/Guidebook-2016.pdf\n",
      "Writing contents to /Users/rahimjiwa/Documents/DataScience/sandbox/pdf_extraction_tika/tika_documents_02_01_2020_09_48_AM/Guidebook-2016.txt\n"
     ]
    }
   ],
   "source": [
    "# operationalize the function, while providing default parameters\n",
    "# default source directory is the current working directory\n",
    "# target dirctory name is tika_documents_datetime\n",
    "#        in the format \"tika_documents_date_month_year_hour_minute_pm\"\n",
    "if __name__ == \"__main__\":\n",
    "    tikaextract = TikaExtract(source_directory = str(os.getcwd()),\n",
    "                             target_directory_name = '/tika_documents_' +str(datetime.datetime.now().strftime(\"%d_%m_%Y_%I_%M_%p\"))+\"/\")\n",
    "    tikaextract.extract_text_from_pdfs_recursively()"
   ]
  },
  {
   "cell_type": "code",
   "execution_count": null,
   "metadata": {},
   "outputs": [],
   "source": []
  }
 ],
 "metadata": {
  "kernelspec": {
   "display_name": "Python 3",
   "language": "python",
   "name": "python3"
  },
  "language_info": {
   "codemirror_mode": {
    "name": "ipython",
    "version": 3
   },
   "file_extension": ".py",
   "mimetype": "text/x-python",
   "name": "python",
   "nbconvert_exporter": "python",
   "pygments_lexer": "ipython3",
   "version": "3.7.4"
  }
 },
 "nbformat": 4,
 "nbformat_minor": 2
}
