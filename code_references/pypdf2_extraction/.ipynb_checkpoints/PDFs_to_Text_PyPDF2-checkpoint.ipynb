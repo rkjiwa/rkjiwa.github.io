{
 "cells": [
  {
   "cell_type": "markdown",
   "metadata": {},
   "source": [
    "# PDFs to Text via PyPDF2"
   ]
  },
  {
   "cell_type": "markdown",
   "metadata": {},
   "source": [
    "This file is to convert pdf files into text files by using PyPDF2. It has been designed to search the current directory, and return a folder containing the converted text files.\n",
    "\n",
    "This code was initially written for the UofT3666 - Applied Natural Language Processing final project. "
   ]
  },
  {
   "cell_type": "code",
   "execution_count": 1,
   "metadata": {},
   "outputs": [],
   "source": [
    "#imports\n",
    "import PyPDF2\n",
    "import os\n",
    "import glob"
   ]
  },
  {
   "cell_type": "code",
   "execution_count": 2,
   "metadata": {},
   "outputs": [],
   "source": [
    "# this class is to extract the text using pypdf2\n",
    "class PyPDF2Extract(object):\n",
    "    # initialize the class\n",
    "    def __init__(self, target_directory_name, source):\n",
    "        self.target = str(target_directory_name)\n",
    "        \n",
    "        \n",
    "    # define a function to extract a pdf \n",
    "    def pdfExtract(self, file):\n",
    "        # open the pdf file\n",
    "        pdf = open(file, 'rb')\n",
    "        # convert the pdf to a PdfFileReader object\n",
    "        read_pdf = PyPDF2.PdfFileReader(pdf)\n",
    "        # check if the pdf file is encrypted\n",
    "        if read_pdf.isEncrypted == True:\n",
    "            print(file + ' file is encrypted')\n",
    "        else:\n",
    "            print(file)\n",
    "            # get the page content\n",
    "            page_content = []\n",
    "            # get the number of pages in the document\n",
    "            number_of_pages = read_pdf.getNumPages()\n",
    "            # iterate over each page to extract the text\n",
    "            for i in range(number_of_pages):\n",
    "                page = read_pdf.getPage(i)\n",
    "                # some of the files throws a TypeError\n",
    "                # others may throw a KeyError if there is a blank page\n",
    "                # this has not been addressed here\n",
    "                try:\n",
    "                    content = page.extractText()\n",
    "                    page_content.append(content)\n",
    "                except TypeError:\n",
    "                    pass\n",
    "                # set condition for writing the text file\n",
    "                if (i+ 1) == number_of_pages:\n",
    "                    # write the text file\n",
    "                    with open(str(os.getcwd()) + '/' + self.target + '/' + file[:-4] + '.txt', 'w') as f:\n",
    "                        f.write(str(page_content) + \"\\n\")\n",
    "                        print(file + ' success')\n",
    "    \n",
    "    def transform(self):\n",
    "        # resolve files in directory using glob\n",
    "        files = list(glob.glob(\"*.pdf\"))\n",
    "        # iterate over files to run pdfExtract function\n",
    "        for i in files:\n",
    "            #check if the target directory exists, if it doesn't create the target\n",
    "            if not os.path.exists(str(os.getcwd()) + '/' + self.target):\n",
    "                os.makedirs(str(os.getcwd()) + '/' + self.target)\n",
    "            self.pdfExtract(i)"
   ]
  },
  {
   "cell_type": "code",
   "execution_count": 3,
   "metadata": {},
   "outputs": [],
   "source": [
    "# initialization the PyPDF2Extract class, specifying the target directory name\n",
    "pypdf2_extractor = PyPDF2Extract(target_directory_name = 'pypdf2_extracted_texts')"
   ]
  },
  {
   "cell_type": "code",
   "execution_count": 4,
   "metadata": {},
   "outputs": [],
   "source": [
    "#perform the transformation\n",
    "pypdf2_extractor.transform()"
   ]
  },
  {
   "cell_type": "code",
   "execution_count": 5,
   "metadata": {},
   "outputs": [],
   "source": [
    "# operationalize\n",
    "if __name__ == \"__main__\":\n",
    "    pypdf2_extractor = PyPDF2Extract(target_directory_name = 'pypdf2_extracted_texts')\n",
    "    pypdf2_extractor.transform()\n",
    "    "
   ]
  }
 ],
 "metadata": {
  "kernelspec": {
   "display_name": "Python 3",
   "language": "python",
   "name": "python3"
  },
  "language_info": {
   "codemirror_mode": {
    "name": "ipython",
    "version": 3
   },
   "file_extension": ".py",
   "mimetype": "text/x-python",
   "name": "python",
   "nbconvert_exporter": "python",
   "pygments_lexer": "ipython3",
   "version": "3.7.4"
  }
 },
 "nbformat": 4,
 "nbformat_minor": 2
}
